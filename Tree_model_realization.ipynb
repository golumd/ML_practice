{
  "nbformat": 4,
  "nbformat_minor": 0,
  "metadata": {
    "colab": {
      "provenance": [],
      "collapsed_sections": []
    },
    "kernelspec": {
      "name": "python3",
      "display_name": "Python 3"
    },
    "language_info": {
      "name": "python"
    }
  },
  "cells": [
    {
      "cell_type": "code",
      "execution_count": 15,
      "metadata": {
        "id": "dReQQsYwKpZm"
      },
      "outputs": [],
      "source": [
        "import matplotlib.pyplot as plt\n",
        "import seaborn as sns\n",
        "import numpy as np\n",
        "import pandas as pd\n",
        "\n",
        "from imblearn.under_sampling import RandomUnderSampler\n",
        "\n",
        "from sklearn.model_selection import GridSearchCV, StratifiedKFold\n",
        "\n",
        "\n",
        "from sklearn.datasets import load_breast_cancer\n",
        "from sklearn.model_selection import train_test_split, GridSearchCV\n",
        "from sklearn.metrics import accuracy_score, f1_score, precision_recall_curve, auc, confusion_matrix, roc_auc_score\n",
        "\n",
        "from sklearn.tree import DecisionTreeClassifier, plot_tree\n",
        "from sklearn.linear_model import LogisticRegression, Ridge\n",
        "from sklearn.svm import SVC\n",
        "\n",
        "from typing import Iterable, List, Tuple, Union\n",
        "from collections import Counter\n",
        "import warnings\n",
        "warnings.simplefilter('ignore')\n",
        "\n",
        "%matplotlib inline\n",
        "plt.rcParams[\"figure.figsize\"] = (11, 6.5)"
      ]
    },
    {
      "cell_type": "code",
      "source": [
        "breast_cancer = load_breast_cancer()\n",
        "X = pd.DataFrame(data=breast_cancer[\"data\"], columns=breast_cancer[\"feature_names\"])\n",
        "\n",
        "# добавим искуственный категориальный признак\n",
        "X['mean area cat'] = pd.qcut(X['mean area'], 5, labels=['smallest','small','medium','big', 'largest']).astype('object') \n",
        "\n",
        "X[\"target\"] = breast_cancer[\"target\"]\n",
        "X_train, X_test = train_test_split(X, test_size=0.25, random_state=42)\n",
        "X_train.head()"
      ],
      "metadata": {
        "colab": {
          "base_uri": "https://localhost:8080/",
          "height": 334
        },
        "id": "tjrqPSdYMEzy",
        "outputId": "ed10cad7-38e4-416a-e06a-0d07dfc2a4ec"
      },
      "execution_count": 2,
      "outputs": [
        {
          "output_type": "execute_result",
          "data": {
            "text/plain": [
              "     mean radius  mean texture  mean perimeter  mean area  mean smoothness  \\\n",
              "287        12.89         13.12           81.89      515.9          0.06955   \n",
              "512        13.40         20.52           88.64      556.7          0.11060   \n",
              "402        12.96         18.29           84.18      525.2          0.07351   \n",
              "446        17.75         28.03          117.30      981.6          0.09997   \n",
              "210        20.58         22.14          134.70     1290.0          0.09090   \n",
              "\n",
              "     mean compactness  mean concavity  mean concave points  mean symmetry  \\\n",
              "287           0.03729         0.02260              0.01171         0.1337   \n",
              "512           0.14690         0.14450              0.08172         0.2116   \n",
              "402           0.07899         0.04057              0.01883         0.1874   \n",
              "446           0.13140         0.16980              0.08293         0.1713   \n",
              "210           0.13480         0.16400              0.09561         0.1765   \n",
              "\n",
              "     mean fractal dimension  ...  worst perimeter  worst area  \\\n",
              "287                 0.05581  ...            87.40       577.0   \n",
              "512                 0.07325  ...           113.30       844.4   \n",
              "402                 0.05899  ...            96.31       621.9   \n",
              "446                 0.05916  ...           145.40      1437.0   \n",
              "210                 0.05024  ...           158.30      1656.0   \n",
              "\n",
              "     worst smoothness  worst compactness  worst concavity  \\\n",
              "287           0.09616             0.1147           0.1186   \n",
              "512           0.15740             0.3856           0.5106   \n",
              "402           0.09329             0.2318           0.1604   \n",
              "446           0.14010             0.3762           0.6399   \n",
              "210           0.11780             0.2920           0.3861   \n",
              "\n",
              "     worst concave points  worst symmetry  worst fractal dimension  \\\n",
              "287               0.05366          0.2309                  0.06915   \n",
              "512               0.20510          0.3585                  0.11090   \n",
              "402               0.06608          0.3207                  0.07247   \n",
              "446               0.19700          0.2972                  0.09075   \n",
              "210               0.19200          0.2909                  0.05865   \n",
              "\n",
              "     mean area cat  target  \n",
              "287         medium       1  \n",
              "512         medium       0  \n",
              "402         medium       1  \n",
              "446        largest       0  \n",
              "210        largest       0  \n",
              "\n",
              "[5 rows x 32 columns]"
            ],
            "text/html": [
              "\n",
              "  <div id=\"df-f27b7cc5-0c74-4fd7-97be-f2a88117b6bb\">\n",
              "    <div class=\"colab-df-container\">\n",
              "      <div>\n",
              "<style scoped>\n",
              "    .dataframe tbody tr th:only-of-type {\n",
              "        vertical-align: middle;\n",
              "    }\n",
              "\n",
              "    .dataframe tbody tr th {\n",
              "        vertical-align: top;\n",
              "    }\n",
              "\n",
              "    .dataframe thead th {\n",
              "        text-align: right;\n",
              "    }\n",
              "</style>\n",
              "<table border=\"1\" class=\"dataframe\">\n",
              "  <thead>\n",
              "    <tr style=\"text-align: right;\">\n",
              "      <th></th>\n",
              "      <th>mean radius</th>\n",
              "      <th>mean texture</th>\n",
              "      <th>mean perimeter</th>\n",
              "      <th>mean area</th>\n",
              "      <th>mean smoothness</th>\n",
              "      <th>mean compactness</th>\n",
              "      <th>mean concavity</th>\n",
              "      <th>mean concave points</th>\n",
              "      <th>mean symmetry</th>\n",
              "      <th>mean fractal dimension</th>\n",
              "      <th>...</th>\n",
              "      <th>worst perimeter</th>\n",
              "      <th>worst area</th>\n",
              "      <th>worst smoothness</th>\n",
              "      <th>worst compactness</th>\n",
              "      <th>worst concavity</th>\n",
              "      <th>worst concave points</th>\n",
              "      <th>worst symmetry</th>\n",
              "      <th>worst fractal dimension</th>\n",
              "      <th>mean area cat</th>\n",
              "      <th>target</th>\n",
              "    </tr>\n",
              "  </thead>\n",
              "  <tbody>\n",
              "    <tr>\n",
              "      <th>287</th>\n",
              "      <td>12.89</td>\n",
              "      <td>13.12</td>\n",
              "      <td>81.89</td>\n",
              "      <td>515.9</td>\n",
              "      <td>0.06955</td>\n",
              "      <td>0.03729</td>\n",
              "      <td>0.02260</td>\n",
              "      <td>0.01171</td>\n",
              "      <td>0.1337</td>\n",
              "      <td>0.05581</td>\n",
              "      <td>...</td>\n",
              "      <td>87.40</td>\n",
              "      <td>577.0</td>\n",
              "      <td>0.09616</td>\n",
              "      <td>0.1147</td>\n",
              "      <td>0.1186</td>\n",
              "      <td>0.05366</td>\n",
              "      <td>0.2309</td>\n",
              "      <td>0.06915</td>\n",
              "      <td>medium</td>\n",
              "      <td>1</td>\n",
              "    </tr>\n",
              "    <tr>\n",
              "      <th>512</th>\n",
              "      <td>13.40</td>\n",
              "      <td>20.52</td>\n",
              "      <td>88.64</td>\n",
              "      <td>556.7</td>\n",
              "      <td>0.11060</td>\n",
              "      <td>0.14690</td>\n",
              "      <td>0.14450</td>\n",
              "      <td>0.08172</td>\n",
              "      <td>0.2116</td>\n",
              "      <td>0.07325</td>\n",
              "      <td>...</td>\n",
              "      <td>113.30</td>\n",
              "      <td>844.4</td>\n",
              "      <td>0.15740</td>\n",
              "      <td>0.3856</td>\n",
              "      <td>0.5106</td>\n",
              "      <td>0.20510</td>\n",
              "      <td>0.3585</td>\n",
              "      <td>0.11090</td>\n",
              "      <td>medium</td>\n",
              "      <td>0</td>\n",
              "    </tr>\n",
              "    <tr>\n",
              "      <th>402</th>\n",
              "      <td>12.96</td>\n",
              "      <td>18.29</td>\n",
              "      <td>84.18</td>\n",
              "      <td>525.2</td>\n",
              "      <td>0.07351</td>\n",
              "      <td>0.07899</td>\n",
              "      <td>0.04057</td>\n",
              "      <td>0.01883</td>\n",
              "      <td>0.1874</td>\n",
              "      <td>0.05899</td>\n",
              "      <td>...</td>\n",
              "      <td>96.31</td>\n",
              "      <td>621.9</td>\n",
              "      <td>0.09329</td>\n",
              "      <td>0.2318</td>\n",
              "      <td>0.1604</td>\n",
              "      <td>0.06608</td>\n",
              "      <td>0.3207</td>\n",
              "      <td>0.07247</td>\n",
              "      <td>medium</td>\n",
              "      <td>1</td>\n",
              "    </tr>\n",
              "    <tr>\n",
              "      <th>446</th>\n",
              "      <td>17.75</td>\n",
              "      <td>28.03</td>\n",
              "      <td>117.30</td>\n",
              "      <td>981.6</td>\n",
              "      <td>0.09997</td>\n",
              "      <td>0.13140</td>\n",
              "      <td>0.16980</td>\n",
              "      <td>0.08293</td>\n",
              "      <td>0.1713</td>\n",
              "      <td>0.05916</td>\n",
              "      <td>...</td>\n",
              "      <td>145.40</td>\n",
              "      <td>1437.0</td>\n",
              "      <td>0.14010</td>\n",
              "      <td>0.3762</td>\n",
              "      <td>0.6399</td>\n",
              "      <td>0.19700</td>\n",
              "      <td>0.2972</td>\n",
              "      <td>0.09075</td>\n",
              "      <td>largest</td>\n",
              "      <td>0</td>\n",
              "    </tr>\n",
              "    <tr>\n",
              "      <th>210</th>\n",
              "      <td>20.58</td>\n",
              "      <td>22.14</td>\n",
              "      <td>134.70</td>\n",
              "      <td>1290.0</td>\n",
              "      <td>0.09090</td>\n",
              "      <td>0.13480</td>\n",
              "      <td>0.16400</td>\n",
              "      <td>0.09561</td>\n",
              "      <td>0.1765</td>\n",
              "      <td>0.05024</td>\n",
              "      <td>...</td>\n",
              "      <td>158.30</td>\n",
              "      <td>1656.0</td>\n",
              "      <td>0.11780</td>\n",
              "      <td>0.2920</td>\n",
              "      <td>0.3861</td>\n",
              "      <td>0.19200</td>\n",
              "      <td>0.2909</td>\n",
              "      <td>0.05865</td>\n",
              "      <td>largest</td>\n",
              "      <td>0</td>\n",
              "    </tr>\n",
              "  </tbody>\n",
              "</table>\n",
              "<p>5 rows × 32 columns</p>\n",
              "</div>\n",
              "      <button class=\"colab-df-convert\" onclick=\"convertToInteractive('df-f27b7cc5-0c74-4fd7-97be-f2a88117b6bb')\"\n",
              "              title=\"Convert this dataframe to an interactive table.\"\n",
              "              style=\"display:none;\">\n",
              "        \n",
              "  <svg xmlns=\"http://www.w3.org/2000/svg\" height=\"24px\"viewBox=\"0 0 24 24\"\n",
              "       width=\"24px\">\n",
              "    <path d=\"M0 0h24v24H0V0z\" fill=\"none\"/>\n",
              "    <path d=\"M18.56 5.44l.94 2.06.94-2.06 2.06-.94-2.06-.94-.94-2.06-.94 2.06-2.06.94zm-11 1L8.5 8.5l.94-2.06 2.06-.94-2.06-.94L8.5 2.5l-.94 2.06-2.06.94zm10 10l.94 2.06.94-2.06 2.06-.94-2.06-.94-.94-2.06-.94 2.06-2.06.94z\"/><path d=\"M17.41 7.96l-1.37-1.37c-.4-.4-.92-.59-1.43-.59-.52 0-1.04.2-1.43.59L10.3 9.45l-7.72 7.72c-.78.78-.78 2.05 0 2.83L4 21.41c.39.39.9.59 1.41.59.51 0 1.02-.2 1.41-.59l7.78-7.78 2.81-2.81c.8-.78.8-2.07 0-2.86zM5.41 20L4 18.59l7.72-7.72 1.47 1.35L5.41 20z\"/>\n",
              "  </svg>\n",
              "      </button>\n",
              "      \n",
              "  <style>\n",
              "    .colab-df-container {\n",
              "      display:flex;\n",
              "      flex-wrap:wrap;\n",
              "      gap: 12px;\n",
              "    }\n",
              "\n",
              "    .colab-df-convert {\n",
              "      background-color: #E8F0FE;\n",
              "      border: none;\n",
              "      border-radius: 50%;\n",
              "      cursor: pointer;\n",
              "      display: none;\n",
              "      fill: #1967D2;\n",
              "      height: 32px;\n",
              "      padding: 0 0 0 0;\n",
              "      width: 32px;\n",
              "    }\n",
              "\n",
              "    .colab-df-convert:hover {\n",
              "      background-color: #E2EBFA;\n",
              "      box-shadow: 0px 1px 2px rgba(60, 64, 67, 0.3), 0px 1px 3px 1px rgba(60, 64, 67, 0.15);\n",
              "      fill: #174EA6;\n",
              "    }\n",
              "\n",
              "    [theme=dark] .colab-df-convert {\n",
              "      background-color: #3B4455;\n",
              "      fill: #D2E3FC;\n",
              "    }\n",
              "\n",
              "    [theme=dark] .colab-df-convert:hover {\n",
              "      background-color: #434B5C;\n",
              "      box-shadow: 0px 1px 3px 1px rgba(0, 0, 0, 0.15);\n",
              "      filter: drop-shadow(0px 1px 2px rgba(0, 0, 0, 0.3));\n",
              "      fill: #FFFFFF;\n",
              "    }\n",
              "  </style>\n",
              "\n",
              "      <script>\n",
              "        const buttonEl =\n",
              "          document.querySelector('#df-f27b7cc5-0c74-4fd7-97be-f2a88117b6bb button.colab-df-convert');\n",
              "        buttonEl.style.display =\n",
              "          google.colab.kernel.accessAllowed ? 'block' : 'none';\n",
              "\n",
              "        async function convertToInteractive(key) {\n",
              "          const element = document.querySelector('#df-f27b7cc5-0c74-4fd7-97be-f2a88117b6bb');\n",
              "          const dataTable =\n",
              "            await google.colab.kernel.invokeFunction('convertToInteractive',\n",
              "                                                     [key], {});\n",
              "          if (!dataTable) return;\n",
              "\n",
              "          const docLinkHtml = 'Like what you see? Visit the ' +\n",
              "            '<a target=\"_blank\" href=https://colab.research.google.com/notebooks/data_table.ipynb>data table notebook</a>'\n",
              "            + ' to learn more about interactive tables.';\n",
              "          element.innerHTML = '';\n",
              "          dataTable['output_type'] = 'display_data';\n",
              "          await google.colab.output.renderOutput(dataTable, element);\n",
              "          const docLink = document.createElement('div');\n",
              "          docLink.innerHTML = docLinkHtml;\n",
              "          element.appendChild(docLink);\n",
              "        }\n",
              "      </script>\n",
              "    </div>\n",
              "  </div>\n",
              "  "
            ]
          },
          "metadata": {},
          "execution_count": 2
        }
      ]
    },
    {
      "cell_type": "code",
      "source": [
        "def split_node(R_m: np.ndarray, feature: str, t: float) -> Tuple[np.ndarray, np.ndarray]:\n",
        "    \"\"\"\n",
        "    Split a fixed set of objects R_m with given feature name and threshold t\n",
        "    \"\"\"\n",
        "    mask = R_m[feature] <= t\n",
        "    R_l = R_m.loc[mask]\n",
        "    R_r = R_m.loc[~mask]\n",
        "    return R_l, R_r\n",
        "\n",
        "\n",
        "def q_error(R_m: np.ndarray, feature: str, t: float) -> float:\n",
        "    \"\"\"\n",
        "    Compute error criterion for the given objects R_m, feature name and threshold t\n",
        "    \"\"\"\n",
        "    R_l, R_r = split_node(R_m, feature, t)\n",
        "    return  len(R_l) / len(R_m) * H(R_l['target']) + len(R_r) / len(R_m) * H(R_r['target'])"
      ],
      "metadata": {
        "id": "pOKBJG6fMHTR"
      },
      "execution_count": 3,
      "outputs": []
    },
    {
      "cell_type": "code",
      "source": [
        "def H(y: np.ndarray) -> float:\n",
        "    \"\"\"\n",
        "    Compute entropy for vector y with classes of objects R\n",
        "        \n",
        "    \"\"\"\n",
        "    y = list(y)\n",
        "\n",
        "    if len(y) == 0:\n",
        "      return 0\n",
        "\n",
        "    p0, p1 = y.count(0)/len(y), y.count(1)/ len(y)\n",
        "    #print(p0, p1)\n",
        "\n",
        "    if p0*p1 != 0:\n",
        "      entropy = -p0*np.log2(p0) - p1*np.log2(p1)\n",
        "    else:\n",
        "      entropy = 1/float(\"+inf\")\n",
        "\n",
        "    return entropy\n",
        "\n",
        "print(H([0,0,0,0,0,1]))\n",
        "print(H([0,0,0,0,0,0]))\n",
        "\n",
        "# Проверяем на простых примерах\n",
        "assert np.isclose(H([0,0,0,0,0,1]), 0.650022)\n",
        "assert np.isclose(H([0,0,0,0,0,0]), 0)"
      ],
      "metadata": {
        "colab": {
          "base_uri": "https://localhost:8080/"
        },
        "id": "fF3rnWF-MPxB",
        "outputId": "fbdfbb31-3009-4051-f75f-2bafb99fe8e9"
      },
      "execution_count": 4,
      "outputs": [
        {
          "output_type": "stream",
          "name": "stdout",
          "text": [
            "0.6500224216483541\n",
            "0.0\n"
          ]
        }
      ]
    },
    {
      "cell_type": "code",
      "source": [
        "def get_optimal_split(R_m: np.array, feature: str) -> Tuple[float, List[float]]:\n",
        "    \"\"\"\n",
        "    Find best split of objects R_m by feature and return minimal q_error (opt_q_error), best threshold (opt_threshold) and array of error criterions (Q_array)\n",
        "        \n",
        "    \"\"\"\n",
        "    Q_array = []\n",
        "    unique_t = np.unique(sorted(R_m[feature]))\n",
        "\n",
        "    feature_values = (unique_t[1:] + unique_t[:-1])/2\n",
        "\n",
        "    #В качестве порога использовалось среднее двух различных соседних (при сортировке) значений признака\n",
        "      # это сразу гарантирует, что не будет 0 значений (только если входной массив не нулевой/единичный)\n",
        "    \n",
        "    opt_q_error = 1\n",
        "\n",
        "    if len(R_m) == 0:\n",
        "      return None, None, None\n",
        "\n",
        "    for i in range(len(feature_values)):\n",
        "      \n",
        "      t = feature_values[i]\n",
        "      qerror = q_error(R_m, feature, t)\n",
        "      Q_array.append(qerror)\n",
        "      \n",
        "    Q_array = np.nan_to_num(Q_array, nan=float(\"+inf\"))\n",
        "    \n",
        "    minimum_id = np.argmin(Q_array)\n",
        "    opt_threshold = feature_values[minimum_id]\n",
        "    opt_q_error = Q_array[minimum_id]\n",
        "\n",
        "    return opt_threshold, opt_q_error, Q_array"
      ],
      "metadata": {
        "id": "mxwEIIZ6MYuN"
      },
      "execution_count": 5,
      "outputs": []
    },
    {
      "cell_type": "markdown",
      "source": [
        "Выберем признак и посмотрим на значение критерия информативности"
      ],
      "metadata": {
        "id": "2phZpEgcP5ks"
      }
    },
    {
      "cell_type": "code",
      "source": [
        "my_feature, tt = 'worst area', 800\n",
        "\n",
        "print('Значение кр.инф. до разбиения {}'.format(H(X['target'])))\n",
        "print('Значение кр.инф. после разбиения {}'.format(q_error(X, my_feature, tt)))"
      ],
      "metadata": {
        "colab": {
          "base_uri": "https://localhost:8080/"
        },
        "id": "7Z-KKq8ZPLgW",
        "outputId": "ec7d8cb3-239b-4149-f04c-37124e41c049"
      },
      "execution_count": 6,
      "outputs": [
        {
          "output_type": "stream",
          "name": "stdout",
          "text": [
            "Значение кр.инф. до разбиения 0.9526351224018599\n",
            "Значение кр.инф. после разбиения 0.45763197043007536\n"
          ]
        }
      ]
    },
    {
      "cell_type": "markdown",
      "source": [
        "График зависимости критерия ошибки от выбранного порога для выбранного признака с точкой минимума."
      ],
      "metadata": {
        "id": "spCLUXN1PdKt"
      }
    },
    {
      "cell_type": "code",
      "source": [
        "t, q_err, Q_array = get_optimal_split(X_train, my_feature)\n",
        "t_uniqs = sorted(np.unique(X_train[my_feature]))\n",
        "\n",
        "plt.plot([(t_uniqs[i]+t_uniqs[i+1])/2 for i in range(len(t_uniqs[:-1]))], Q_array)\n",
        "plt.title(my_feature)\n",
        "plt.xlabel(\"threshold\")\n",
        "plt.ylabel(\"Q error\")\n",
        "plt.plot(t, q_err, 'rx')\n",
        "\n",
        "plt.show()\n"
      ],
      "metadata": {
        "colab": {
          "base_uri": "https://localhost:8080/",
          "height": 432
        },
        "id": "9XXScpsJPL-K",
        "outputId": "6507d001-bf80-4d5e-8aeb-f785d9dbd9a7"
      },
      "execution_count": 7,
      "outputs": [
        {
          "output_type": "display_data",
          "data": {
            "text/plain": [
              "<Figure size 792x468 with 1 Axes>"
            ],
            "image/png": "[encoded data removed]"
          },
          "metadata": {
            "needs_background": "light"
          }
        }
      ]
    },
    {
      "cell_type": "markdown",
      "source": [
        "### Признак с минимальным значением критерия ошибки."
      ],
      "metadata": {
        "id": "FzFrbbAkQIZ5"
      }
    },
    {
      "cell_type": "code",
      "source": [
        "qqs = 1\n",
        "list_f_t_q = []\n",
        "optimal_feature = 'target'\n",
        "optimal_t = None\n",
        "cols = np.array(X.columns.drop(['mean area cat', 'target']))\n",
        "for feat in cols:\n",
        "  thr, qq, QQ = get_optimal_split(X_train, feat)\n",
        "  list_f_t_q.append((feat,thr, qq))\n",
        "  # полагаю, это работает дольше, так что спрячем пока \n",
        "  \"\"\"if qq < qqs:\n",
        "    qqs = qq\n",
        "    optimal_feature = feat\n",
        "    optimal_t = thr\"\"\"\n",
        "list_f_t_q.sort(key=lambda x: x[2])\n",
        "best_ftq = list_f_t_q[0]\n",
        "optimal_feature, optimal_t, qqs =  best_ftq[0],best_ftq[1],best_ftq[2]   "
      ],
      "metadata": {
        "id": "Ihh-xZBxQENq"
      },
      "execution_count": 8,
      "outputs": []
    },
    {
      "cell_type": "code",
      "source": [
        "plt.scatter(X_train[optimal_feature], X_train['target'], c=X_train['target'])\n",
        "plt.axvline(x=optimal_t, color=\"red\")\n",
        "plt.xlabel(optimal_feature)\n",
        "plt.ylabel(\"target\")\n",
        "plt.title(\"Feature: {} | optimal t: {}\".format(optimal_feature, optimal_t))\n",
        "plt.show()\n",
        "\n",
        "plt.xlabel(optimal_feature)\n",
        "plt.axvline(x=optimal_t, color=\"red\")\n",
        "plt.hist(X_train[optimal_feature][X_train['target']==1], bins=20, alpha=0.5)\n",
        "plt.hist(X_train[optimal_feature][X_train['target']==0], bins=20, alpha=0.5)\n",
        "plt.show()"
      ],
      "metadata": {
        "colab": {
          "base_uri": "https://localhost:8080/",
          "height": 830
        },
        "id": "XjL8C2FwQLp6",
        "outputId": "45f9fbe3-ddc1-4715-a5c1-d6ff69673427"
      },
      "execution_count": 9,
      "outputs": [
        {
          "output_type": "display_data",
          "data": {
            "text/plain": [
              "<Figure size 792x468 with 1 Axes>"
            ],
            "image/png": "[encoded data removed]"
          },
          "metadata": {
            "needs_background": "light"
          }
        },
        {
          "output_type": "display_data",
          "data": {
            "text/plain": [
              "<Figure size 792x468 with 1 Axes>"
            ],
            "image/png": "[encoded data removed]"
          },
          "metadata": {
            "needs_background": "light"
          }
        }
      ]
    },
    {
      "cell_type": "markdown",
      "source": [
        "## Реализация дерева решений"
      ],
      "metadata": {
        "id": "BJHlYpuzQW4c"
      }
    },
    {
      "cell_type": "code",
      "source": [
        "class DecisionTree:\n",
        "    def __init__(\n",
        "        self, \n",
        "        feature_types: Union[List[str], np.ndarray], \n",
        "        max_depth: int = None, \n",
        "        min_samples_split: int = None, \n",
        "        min_samples_leaf: int = None\n",
        "    ) -> None:\n",
        "        \n",
        "        if np.any(list(map(lambda x: x not in ('int64', 'float64', 'object'), feature_types))):\n",
        "            raise ValueError(\"There is unknown feature type\")\n",
        "\n",
        "        # В этой переменной будем хранить узлы решающего дерева. Каждая вершина хранит в себе идентификатор того,\n",
        "        # является ли она листовой (\"terminal\" или \"nonterminal\"). Листовые вершины хранят значение класса для предсказания, \n",
        "        # нелистовые - правого и левого детей (поддеревья для продолжения процедуры предсказания)\n",
        "        self._tree = {\"depth\":0}\n",
        "        \n",
        "        # типы признаков (категориальные или числовые)\n",
        "        self._feature_types = feature_types\n",
        "        \n",
        "        # гиперпараметры дерева\n",
        "        self._max_depth = max_depth\n",
        "        self._min_samples_split = min_samples_split\n",
        "        self._min_samples_leaf = min_samples_leaf\n",
        "\n",
        "# смотрим на последовательность вершин дерева\n",
        "        self.feature_sequense = []\n",
        "\n",
        "    def _fit_node(\n",
        "        self, \n",
        "        sub: pd.DataFrame, # подмножество объектов для данной вершины\n",
        "        node: dict        # словарь для хранения информации о вершине\n",
        "    ) -> None:\n",
        "        \n",
        "        # критерий остановки - проверяем что не все классы объектов в данной вершине одинаковы\n",
        "        if np.all(sub['target'] == sub['target'].iloc[0]):\n",
        "            node[\"type\"] = \"terminal\"\n",
        "            node[\"class\"] = sub['target'].iloc[0]\n",
        "            return\n",
        "        \n",
        "        if self._min_samples_leaf != None:\n",
        "          if len(sub)<self._min_samples_leaf:\n",
        "            node[\"type\"] = \"terminal\"\n",
        "            node[\"class\"] = Counter(sub['target']).most_common(1)[0][0]\n",
        "            return\n",
        "\n",
        "        # ищем лучший признак для разбиения\n",
        "        feature_best, threshold_best, q_best = None, None, None\n",
        "        for feature in sub.columns[:-1]:\n",
        "            feature_type = self._feature_types[feature]\n",
        "              \n",
        "            # ищем оптимальный порог для текущего признака\n",
        "            if feature_type != object:\n",
        "              #print(feature, feature_type)\n",
        "              threshold, q, q_array = get_optimal_split(sub, feature)\n",
        "              if q_best is None or q < q_best:\n",
        "                  feature_best = feature\n",
        "                  q_best = q\n",
        "                    #feature_split = feature_best < threshold\n",
        "                  threshold_best = threshold\n",
        "                \n",
        "            #  почти законченный код для категориальной переменной\n",
        "            elif feature_type==object:\n",
        "              count_vals = Counter(sub[feature]) #посчитаем для каждого уникального значение кол-во его появлений\n",
        "              count_vals_pos = Counter(sub[feature][sub['target']==1]) #посчитаем то же, но только для объектов позитивного класса\n",
        "              proportion = {} # тут будем хранить соотношение двух значений выше\n",
        "              for key, current_count in count_vals.items():\n",
        "                if key in count_vals_pos:\n",
        "                  current_val = count_vals_pos[key]\n",
        "                else:\n",
        "                  current_val = 0\n",
        "                proportion[key] = current_val/current_count\n",
        "              # Так как proportion это словарь, то, чтобы получить последовательный отсортированный список, \n",
        "              # замэпим название признака и значение отсортированное знач proportion\n",
        "              sorted_keys = list(map(lambda x: x[0], sorted(proportion.items(), key=lambda x: x[1])))\n",
        "              #print('sorted keys', sorted_keys)\n",
        "              # Припишем значения от от 0 до (кол-во уник. ключей - 1) отсортированным значениям\n",
        "              categories_map = dict(zip(sorted_keys, list(range(len(sorted_keys)))))\n",
        "              # Преобразуем как Лэйблом значения признака в сэмплах на присвоенные им числа (по ним будет сплитить и получать порог)\n",
        "              feature_vector = np.array(map(lambda x: categories_map[x], sub[feature]))\n",
        "              sub_with_feature_vector = pd.DataFrame({'cat_feat': feature_vector, 'target': sub['target']}, index=sub['target'].index.tolist())\n",
        "              #print(sub_with_feature_vector.head())\n",
        "              threshold, q, q_array = get_optimal_split(sub_with_feature_vector, 'cat_feat') \n",
        "              if q_best is None or q < q_best:\n",
        "                  feature_best = feature\n",
        "                  q_best = q\n",
        "                  threshold_best = threshold\n",
        "              cat_threshold = list(map(lambda x: x[0], filter(lambda x: x[1] < threshold_best, categories_map.items())))\n",
        "              \n",
        "            \n",
        "             \n",
        "\n",
        "            \n",
        "        # выбираем класс для листовой вершины\n",
        "        if feature_best is None or node[\"depth\"] == self._max_depth:\n",
        "            node[\"type\"] = \"terminal\"\n",
        "            node[\"class\"] = Counter(sub['target']).most_common(1)[0][0]\n",
        "            return\n",
        "        self.feature_sequense.append(feature_best)\n",
        "        \n",
        "        if self._min_samples_split != None:\n",
        "          if len(sub)<self._min_samples_split:\n",
        "            node[\"type\"] = \"terminal\"\n",
        "            node[\"class\"] = Counter(sub['target']).most_common(1)[0][0]\n",
        "            return\n",
        "          \n",
        "        # записываем полученное разбиение в атрибуты класса\n",
        "        node[\"type\"] = \"nonterminal\"\n",
        "        node[\"feature_split\"] = feature_best\n",
        "        node[\"threshold\"] = threshold_best\n",
        "        sub_l, sub_r = split_node(sub, feature_best, threshold_best)\n",
        "        if self._min_samples_leaf != None:\n",
        "          if len(sub_l) < self._min_samples_leaf or len(sub_r) < self._min_samples_leaf:\n",
        "            node[\"type\"] = \"terminal\"\n",
        "            node[\"class\"] = Counter(sub['target']).most_common(1)[0][0]\n",
        "            return\n",
        "        # запускаем рекурсию\n",
        "        node[\"left_child\"], node[\"right_child\"] = {\"depth\": node[\"depth\"]+1}, {\"depth\": node[\"depth\"]+1}\n",
        "        self._fit_node(sub_l, node[\"left_child\"])\n",
        "        self._fit_node(sub_r, node[\"right_child\"])\n",
        "        \n",
        "    def _predict_node(self, x: pd.Series, node: dict) -> int:\n",
        "        \"\"\"\n",
        "        Предсказание начинается с корневой вершины дерева и рекурсивно идёт в левое или правое поддерево в зависимости от значения\n",
        "        предиката на объекте. Листовая вершина возвращает предсказание.\n",
        "        :param x: pd.Series, элемент выборки\n",
        "        :param node: dict, вершина дерева\n",
        "        \"\"\"\n",
        "        if node[\"type\"] == \"terminal\":\n",
        "          return node[\"class\"]\n",
        "        feat = node[\"feature_split\"]\n",
        "        tr = node[\"threshold\"] \n",
        "        #if x[feat].dtype() is 'object':\n",
        "        \n",
        "        if self._feature_types[feat] is object:\n",
        "          if x[node['feature_split']] in node[\"categories_split\"]:\n",
        "            return self._predict_node(x, node['left_child'])\n",
        "          else:\n",
        "            return self._predict_node(x, node['right_child'])\n",
        "        else:\n",
        "          if x[feat] < tr: \n",
        "            return self._predict_node(x, node['left_child'])\n",
        "          else:\n",
        "            return self._predict_node(x, node['right_child'])\n",
        "        # your code here\n",
        "        \n",
        "\n",
        "    def fit(self, X: pd.DataFrame, y: np.ndarray) -> None:\n",
        "        X['target'] = y\n",
        "        self._fit_node(X, self._tree)\n",
        "\n",
        "    def predict(self, X: pd.DataFrame) -> pd.Series:\n",
        "        predicted = []\n",
        "        for ind, x in X.iterrows():\n",
        "            predicted.append(self._predict_node(x, self._tree))\n",
        "            \n",
        "        return np.array(predicted)"
      ],
      "metadata": {
        "id": "t44X98dzQP29"
      },
      "execution_count": 10,
      "outputs": []
    },
    {
      "cell_type": "markdown",
      "source": [
        "Тестим"
      ],
      "metadata": {
        "id": "67fMOxpMQ0zC"
      }
    },
    {
      "cell_type": "code",
      "source": [
        "df_dtr_train = X_train.copy()#.drop(['mean area cat'], axis=1)\n",
        "df_dtr_test = X_test.copy()#.drop(['mean area cat'], axis=1)\n",
        "df_dtr_dtypes = df_dtr_train.dtypes\n",
        "\n",
        "dtr = DecisionTree(feature_types=df_dtr_dtypes)\n",
        "dtr.fit(df_dtr_train.drop(['target'], axis=1), df_dtr_train['target'])\n",
        "#dtr.score(df_dtr_test.drop(['target'], axis=1), df_dtr_test['target'])\n",
        "print(accuracy_score(dtr.predict(df_dtr_test.drop(['target'], axis=1)), df_dtr_test['target'])) "
      ],
      "metadata": {
        "colab": {
          "base_uri": "https://localhost:8080/"
        },
        "id": "YVmdcXT4QhBf",
        "outputId": "2373ec69-14f6-49c4-9c17-eacc70bfc9a0"
      },
      "execution_count": 11,
      "outputs": [
        {
          "output_type": "stream",
          "name": "stdout",
          "text": [
            "0.951048951048951\n"
          ]
        }
      ]
    },
    {
      "cell_type": "code",
      "source": [
        "pred_train = dtr.predict(df_dtr_train.drop(['target'], axis=1))\n",
        "pred_test = dtr.predict(df_dtr_test.drop(['target'], axis=1))\n",
        "\n",
        "accuracy_train = accuracy_score(pred_train, df_dtr_train['target'])\n",
        "accuracy_test = accuracy_score(pred_test, df_dtr_test['target'])\n",
        "print(accuracy_train, accuracy_test)"
      ],
      "metadata": {
        "colab": {
          "base_uri": "https://localhost:8080/"
        },
        "id": "dXLOQb08QoFn",
        "outputId": "f351d13f-4b0c-4b52-aa97-0a7687d2194d"
      },
      "execution_count": 12,
      "outputs": [
        {
          "output_type": "stream",
          "name": "stdout",
          "text": [
            "1.0 0.951048951048951\n"
          ]
        }
      ]
    },
    {
      "cell_type": "code",
      "source": [],
      "metadata": {
        "id": "ggdjogDxQyKq"
      },
      "execution_count": null,
      "outputs": []
    },
    {
      "cell_type": "markdown",
      "source": [
        "## Сравнение с классическим деревом из Sklearn"
      ],
      "metadata": {
        "id": "mAr5vtB3RDJ-"
      }
    },
    {
      "cell_type": "markdown",
      "source": [
        "### Из коробки"
      ],
      "metadata": {
        "id": "e_UV64qoRdXi"
      }
    },
    {
      "cell_type": "code",
      "source": [
        "X, X_train, X_test = X.drop(['mean area cat'], axis = 1), X_train.drop(['mean area cat'], axis = 1), X_test.drop(['mean area cat'], axis = 1) \n",
        "plt.figure(figsize=(13, 5))\n",
        "dtree = DecisionTreeClassifier(max_depth=3)\n",
        "dtree.fit(X_train.drop(['target'], axis=1), X_train['target'])\n",
        "plot_tree(dtree, feature_names=X.drop(['target'], axis=1).columns, filled=True, rounded=True, fontsize=10)\n",
        "plt.title('DecTreeClassifier')\n",
        "plt.show()"
      ],
      "metadata": {
        "colab": {
          "base_uri": "https://localhost:8080/",
          "height": 320
        },
        "id": "FPUngNYaRJZS",
        "outputId": "e40e2ce9-8522-40e8-a507-bc1140512de2"
      },
      "execution_count": 13,
      "outputs": [
        {
          "output_type": "display_data",
          "data": {
            "text/plain": [
              "<Figure size 936x360 with 1 Axes>"
            ],
            "image/png": "[encoded data removed]"
          },
          "metadata": {
            "needs_background": "light"
          }
        }
      ]
    },
    {
      "cell_type": "code",
      "source": [
        "prediction = dtree.predict(X_test.drop(['target'], axis=1))\n",
        "print('roc auc score: {:8.2f}'.format(roc_auc_score(prediction, X_test['target'])))\n",
        "print('f1 score: {:8.2f}'.format(f1_score(prediction, X_test['target'])))\n",
        "print('accuracy score: {:8.2f}'.format(accuracy_score(prediction, X_test['target'])))"
      ],
      "metadata": {
        "colab": {
          "base_uri": "https://localhost:8080/"
        },
        "id": "WaF6YJltRJ3J",
        "outputId": "8475090f-c504-4068-f2c5-54e4b6fe253c"
      },
      "execution_count": 16,
      "outputs": [
        {
          "output_type": "stream",
          "name": "stdout",
          "text": [
            "roc auc score:     0.95\n",
            "f1 score:     0.96\n",
            "accuracy score:     0.95\n"
          ]
        }
      ]
    },
    {
      "cell_type": "markdown",
      "source": [
        "### Прописанное ручками дерево"
      ],
      "metadata": {
        "id": "62wjnBgIRgzC"
      }
    },
    {
      "cell_type": "code",
      "source": [
        "my_dtree = DecisionTree(feature_types=df_dtr_dtypes, max_depth=3)\n",
        "my_dtree.fit(X_train.drop(['target'], axis=1), X_train['target'])\n"
      ],
      "metadata": {
        "id": "VxBWo6nCRMKT"
      },
      "execution_count": 17,
      "outputs": []
    },
    {
      "cell_type": "code",
      "source": [
        "prediction_of_my_tree = my_dtree.predict(X_test.drop(['target'], axis=1))\n",
        "print('roc auc score: {:8.2f}'.format(roc_auc_score(prediction_of_my_tree, X_test['target'])))\n",
        "print('f1 score: {:8.2f}'.format(f1_score(prediction_of_my_tree, X_test['target'])))\n",
        "print('accuracy score: {:8.2f}'.format(accuracy_score(prediction_of_my_tree, X_test['target'])))"
      ],
      "metadata": {
        "colab": {
          "base_uri": "https://localhost:8080/"
        },
        "id": "lWsBfhogRneo",
        "outputId": "86ca3f3a-96d2-46bd-e47e-582fadfe6515"
      },
      "execution_count": 18,
      "outputs": [
        {
          "output_type": "stream",
          "name": "stdout",
          "text": [
            "roc auc score:     0.96\n",
            "f1 score:     0.97\n",
            "accuracy score:     0.96\n"
          ]
        }
      ]
    },
    {
      "cell_type": "code",
      "source": [],
      "metadata": {
        "id": "aehtgCAyRwO7"
      },
      "execution_count": null,
      "outputs": []
    }
  ]
}